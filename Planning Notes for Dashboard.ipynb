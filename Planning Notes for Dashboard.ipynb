{
 "cells": [
  {
   "cell_type": "markdown",
   "metadata": {},
   "source": [
    "### Goals:"
   ]
  },
  {
   "cell_type": "markdown",
   "metadata": {},
   "source": [
    "- Build a fully functional dashboard\n",
    "- Explore and gain a deeper understanding of the technical infrastructure for front-end and back-end \n",
    "- Utilize agile & sprints for project management\n",
    "- Better understand system designs "
   ]
  },
  {
   "cell_type": "markdown",
   "metadata": {},
   "source": [
    "### Purpose:"
   ]
  },
  {
   "cell_type": "markdown",
   "metadata": {},
   "source": [
    "Build a functional dashboard that displays the Digital Divide, its meaning and its story."
   ]
  },
  {
   "cell_type": "markdown",
   "metadata": {},
   "source": [
    "### Preparation:"
   ]
  },
  {
   "cell_type": "markdown",
   "metadata": {},
   "source": [
    "- Rewatch flask videos from TKH class\n",
    "- Research databases \n",
    "- Read documentation \n",
    "- Make a GitHub repository \n",
    "- Mock design for dashboard"
   ]
  },
  {
   "cell_type": "markdown",
   "metadata": {},
   "source": [
    "### To-Do:"
   ]
  },
  {
   "cell_type": "markdown",
   "metadata": {},
   "source": [
    " Dashboard Ideation \n",
    "   - What exactly do I want to accomplish?\n",
    "   - How can this website bring me to my goals?\n",
    "   - What needs to be done, and in what order, to reach my goals?\n",
    "\n",
    "        https://developer.mozilla.org/en-US/docs/Learn/Common_questions/Thinking_before_coding\n",
    "        \n",
    "Robert will help with breakdown of project timeline"
   ]
  },
  {
   "cell_type": "markdown",
   "metadata": {},
   "source": [
    "### References:"
   ]
  },
  {
   "cell_type": "code",
   "execution_count": null,
   "metadata": {},
   "outputs": [],
   "source": [
    "https://www.census.gov/library/visualizations/interactive/2019-poverty-rate.html\n",
    "https://www.census.gov/content/dam/Census/library/publications/2020/acs/acsbr20-04.pdf\n",
    "https://www.census.gov/library/visualizations/interactive/2014-2018-poverty-rate-by-county.html\n",
    "https://www.usnews.com/news/healthiest-communities/new-mexico/rio-arriba-county"
   ]
  },
  {
   "cell_type": "code",
   "execution_count": null,
   "metadata": {},
   "outputs": [],
   "source": [
    "What platform for dashboard?\n",
    "\n",
    "flask or django \n",
    "-python flask website \n",
    "jinja, html + python \n",
    "http & REST protocols\n"
   ]
  },
  {
   "cell_type": "code",
   "execution_count": null,
   "metadata": {},
   "outputs": [],
   "source": [
    "heat maps of USA based on race, education, sex, poverty"
   ]
  },
  {
   "cell_type": "code",
   "execution_count": null,
   "metadata": {},
   "outputs": [],
   "source": [
    "Create timeline & sprints & agile \n",
    "System designs: think about what I want, how each piece connects, what graphs \n",
    "API design, database \n",
    "\n",
    "Make a mockup of \n",
    "\n",
    "Frontend \n",
    "Backend - flask \n",
    "Database\n",
    "\n",
    "\n",
    "What database, what API endpoints?\n",
    "\n",
    "Organizing plans "
   ]
  }
 ],
 "metadata": {
  "kernelspec": {
   "display_name": "Python 3",
   "language": "python",
   "name": "python3"
  },
  "language_info": {
   "codemirror_mode": {
    "name": "ipython",
    "version": 3
   },
   "file_extension": ".py",
   "mimetype": "text/x-python",
   "name": "python",
   "nbconvert_exporter": "python",
   "pygments_lexer": "ipython3",
   "version": "3.8.5"
  }
 },
 "nbformat": 4,
 "nbformat_minor": 4
}
